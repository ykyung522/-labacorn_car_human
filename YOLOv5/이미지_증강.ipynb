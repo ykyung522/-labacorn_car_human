{
  "nbformat": 4,
  "nbformat_minor": 0,
  "metadata": {
    "colab": {
      "provenance": []
    },
    "kernelspec": {
      "name": "python3",
      "display_name": "Python 3"
    },
    "language_info": {
      "name": "python"
    }
  },
  "cells": [
    {
      "cell_type": "markdown",
      "source": [
        "참고 : https://augmentor.readthedocs.io/en/master/\n"
      ],
      "metadata": {
        "id": "DDJ_Ba8WJHVx"
      }
    },
    {
      "cell_type": "markdown",
      "source": [
        "# Augmentor를 사용한 이미지 증강(test)"
      ],
      "metadata": {
        "id": "VM-YDjmzKz9u"
      }
    },
    {
      "cell_type": "code",
      "execution_count": null,
      "metadata": {
        "colab": {
          "base_uri": "https://localhost:8080/"
        },
        "id": "lIDnaYSQIoCD",
        "outputId": "2dc923e8-0f15-4918-9497-b9ca45c458fa"
      },
      "outputs": [
        {
          "output_type": "stream",
          "name": "stdout",
          "text": [
            "Collecting Augmentor\n",
            "  Downloading Augmentor-0.2.12-py2.py3-none-any.whl.metadata (1.3 kB)\n",
            "Requirement already satisfied: Pillow>=5.2.0 in /usr/local/lib/python3.11/dist-packages (from Augmentor) (11.1.0)\n",
            "Requirement already satisfied: tqdm>=4.9.0 in /usr/local/lib/python3.11/dist-packages (from Augmentor) (4.67.1)\n",
            "Requirement already satisfied: numpy>=1.11.0 in /usr/local/lib/python3.11/dist-packages (from Augmentor) (1.26.4)\n",
            "Downloading Augmentor-0.2.12-py2.py3-none-any.whl (38 kB)\n",
            "Installing collected packages: Augmentor\n",
            "Successfully installed Augmentor-0.2.12\n"
          ]
        }
      ],
      "source": [
        "#라이브러리 다운로드\n",
        "#pip install Augmentor"
      ]
    },
    {
      "cell_type": "code",
      "source": [
        "import Augmentor\n",
        "\n",
        "#이미지의 파일 경로\n",
        "img = Augmentor.Pipeline(\"/content/temp_images\")"
      ],
      "metadata": {
        "colab": {
          "base_uri": "https://localhost:8080/"
        },
        "id": "gzV0PrXSIrNK",
        "outputId": "34315e78-e02e-421e-cad1-ef25aac7e67b"
      },
      "execution_count": null,
      "outputs": [
        {
          "output_type": "stream",
          "name": "stdout",
          "text": [
            "Initialised with 1 image(s) found.\n",
            "Output directory set to /content/temp_images/output."
          ]
        }
      ]
    },
    {
      "cell_type": "code",
      "source": [
        "# 좌우 반전\n",
        "img.flip_left_right(probability=1.0)\n",
        "img.sample(1)\n",
        "\n",
        "# 상하 반전\n",
        "img.flip_top_bottom(probability=1.0)\n",
        "img.sample(1)\n",
        "\n",
        "#모퉁이 왜곡\n",
        "img.skew_corner(probability=1.0)\n",
        "img.sample(1)\n",
        "\n",
        "#회전&크롭\n",
        "img.rotate_without_crop(probability=1, max_left_rotation=0.8, max_right_rotation=0.8, expand=False, fillcolor=None)\n",
        "img.sample(1)\n",
        "\n",
        "# 왜곡\n",
        "img.random_distortion(probability=1, grid_width=10, grid_height=10, magnitude=30)\n",
        "img.sample(1)\n",
        "\n",
        "#확대\n",
        "img.zoom_random(probability=1, percentage_area=0.8)\n",
        "img.sample(1)\n",
        "\n",
        "#크롭\n",
        "img.crop_random(probability=1, percentage_area=0.8, randomise_percentage_area=False)\n",
        "img.sample(1)\n",
        "\n",
        "#랜덤 지우기\n",
        "img.random_erasing(probability=1.0, rectangle_area=0.3)\n",
        "img.sample(1)\n"
      ],
      "metadata": {
        "colab": {
          "base_uri": "https://localhost:8080/"
        },
        "id": "XkOdtGPrP7hk",
        "outputId": "99a51d16-bc15-4ef2-ff59-f327781f62fa"
      },
      "execution_count": null,
      "outputs": [
        {
          "output_type": "stream",
          "name": "stderr",
          "text": [
            "Processing <PIL.Image.Image image mode=RGB size=590x591 at 0x7CCDF2D3E850>: 100%|██████████| 1/1 [00:00<00:00, 94.57 Samples/s]\n",
            "Processing <PIL.Image.Image image mode=RGB size=590x591 at 0x7CCDF2DB9490>: 100%|██████████| 1/1 [00:00<00:00, 64.16 Samples/s]\n",
            "Processing <PIL.Image.Image image mode=RGB size=590x591 at 0x7CCDF2EB0C90>: 100%|██████████| 1/1 [00:00<00:00, 18.98 Samples/s]\n",
            "Processing <PIL.Image.Image image mode=RGB size=590x591 at 0x7CCDF2D7A690>: 100%|██████████| 1/1 [00:00<00:00, 20.18 Samples/s]\n",
            "Processing <PIL.Image.Image image mode=RGB size=590x591 at 0x7CCDF2C3B9D0>: 100%|██████████| 1/1 [00:00<00:00,  7.89 Samples/s]\n",
            "Processing <PIL.Image.Image image mode=RGB size=590x591 at 0x7CCDF2F60550>: 100%|██████████| 1/1 [00:00<00:00, 10.25 Samples/s]\n",
            "Processing <PIL.Image.Image image mode=RGB size=472x472 at 0x7CCDF2FECE50>: 100%|██████████| 1/1 [00:00<00:00,  8.10 Samples/s]\n",
            "Processing <PIL.Image.Image image mode=RGB size=472x472 at 0x7CCDF2D5EA10>: 100%|██████████| 1/1 [00:00<00:00,  8.22 Samples/s]\n"
          ]
        }
      ]
    }
  ]
}